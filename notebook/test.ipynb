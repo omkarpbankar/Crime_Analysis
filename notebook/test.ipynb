{
 "cells": [
  {
   "cell_type": "code",
   "execution_count": 1,
   "metadata": {},
   "outputs": [],
   "source": [
    "import os\n",
    "import pandas as pd\n",
    "from pandas_profiling import ProfileReport\n",
    "from src.utils.common_utils import read_params "
   ]
  },
  {
   "cell_type": "code",
   "execution_count": 5,
   "metadata": {},
   "outputs": [
    {
     "data": {
      "text/plain": [
       "{'base': {'project': 'crime analysis project'},\n",
       " 'data_source': {'s3_source': 'https://aiopsdeeplearning.s3.amazonaws.com/Legacy_Baton_Rouge_Crime_Incidents.csv'},\n",
       " 'artifacts': {'artifacts_dir': 'artifacts',\n",
       "  'raw_local_data_dir': 'artifacts/raw_local_data_dir',\n",
       "  'raw_local_data': 'artifacts/raw_local_data_dir/data.csv'}}"
      ]
     },
     "execution_count": 5,
     "metadata": {},
     "output_type": "execute_result"
    }
   ],
   "source": [
    "#os.getcwd()\n",
    "#os.chdir(\"..\")\n",
    "os.getcwd()\n",
    "config=read_params(os.path.join(os.getcwd(),\"params.yaml\"))\n",
    "config"
   ]
  },
  {
   "cell_type": "code",
   "execution_count": 6,
   "metadata": {},
   "outputs": [
    {
     "data": {
      "text/plain": [
       "'artifacts/raw_local_data_dir/data.csv'"
      ]
     },
     "execution_count": 6,
     "metadata": {},
     "output_type": "execute_result"
    }
   ],
   "source": [
    "raw_local_data=config['artifacts']['raw_local_data']\n",
    "raw_local_data"
   ]
  },
  {
   "cell_type": "code",
   "execution_count": 7,
   "metadata": {},
   "outputs": [
    {
     "name": "stderr",
     "output_type": "stream",
     "text": [
      "d:\\iNeuron\\Data Analysis\\crime_analysis\\env\\lib\\site-packages\\IPython\\core\\interactiveshell.py:3552: DtypeWarning: Columns (2) have mixed types.Specify dtype option on import or set low_memory=False.\n",
      "  exec(code_obj, self.user_global_ns, self.user_ns)\n"
     ]
    },
    {
     "data": {
      "text/html": [
       "<div>\n",
       "<style scoped>\n",
       "    .dataframe tbody tr th:only-of-type {\n",
       "        vertical-align: middle;\n",
       "    }\n",
       "\n",
       "    .dataframe tbody tr th {\n",
       "        vertical-align: top;\n",
       "    }\n",
       "\n",
       "    .dataframe thead th {\n",
       "        text-align: right;\n",
       "    }\n",
       "</style>\n",
       "<table border=\"1\" class=\"dataframe\">\n",
       "  <thead>\n",
       "    <tr style=\"text-align: right;\">\n",
       "      <th></th>\n",
       "      <th>FILE_NUMBER</th>\n",
       "      <th>OFFENSE_DATE</th>\n",
       "      <th>OFFENSE_TIME</th>\n",
       "      <th>CRIME</th>\n",
       "      <th>COMMITTED</th>\n",
       "      <th>OFFENSE</th>\n",
       "      <th>OFFENSE_DESCRIPTION</th>\n",
       "      <th>FULL_ADDRESS</th>\n",
       "      <th>ADDRESS_NUMBER</th>\n",
       "      <th>STREET_DIRECTION</th>\n",
       "      <th>...</th>\n",
       "      <th>CITY</th>\n",
       "      <th>STATE</th>\n",
       "      <th>ZIP_CODE</th>\n",
       "      <th>DISTRICT</th>\n",
       "      <th>ZONE</th>\n",
       "      <th>SUBZONE</th>\n",
       "      <th>COMPLETE_DISTRICT</th>\n",
       "      <th>COUNCIL_DISTRICT</th>\n",
       "      <th>CRIME_PREVENTION_DISTRICT</th>\n",
       "      <th>GEOLOCATION</th>\n",
       "    </tr>\n",
       "  </thead>\n",
       "  <tbody>\n",
       "    <tr>\n",
       "      <th>0</th>\n",
       "      <td>NaN</td>\n",
       "      <td>04/11/2020</td>\n",
       "      <td>1645</td>\n",
       "      <td>SEXUAL ASSAULT</td>\n",
       "      <td>COMMITTED</td>\n",
       "      <td>14:43.1</td>\n",
       "      <td>BATT/SEXUAL</td>\n",
       "      <td>NaN</td>\n",
       "      <td>NaN</td>\n",
       "      <td>NaN</td>\n",
       "      <td>...</td>\n",
       "      <td>NaN</td>\n",
       "      <td>NaN</td>\n",
       "      <td>70802.0</td>\n",
       "      <td>2</td>\n",
       "      <td>C</td>\n",
       "      <td>1</td>\n",
       "      <td>2C1</td>\n",
       "      <td>10.0</td>\n",
       "      <td>NONE</td>\n",
       "      <td>NaN</td>\n",
       "    </tr>\n",
       "    <tr>\n",
       "      <th>1</th>\n",
       "      <td>NaN</td>\n",
       "      <td>10/28/2019</td>\n",
       "      <td>2248</td>\n",
       "      <td>JUVENILE</td>\n",
       "      <td>COMMITTED</td>\n",
       "      <td>14:81</td>\n",
       "      <td>IND BEHAVIOR W/JUV</td>\n",
       "      <td>NaN</td>\n",
       "      <td>NaN</td>\n",
       "      <td>NaN</td>\n",
       "      <td>...</td>\n",
       "      <td>NaN</td>\n",
       "      <td>NaN</td>\n",
       "      <td>70807.0</td>\n",
       "      <td>4</td>\n",
       "      <td>B</td>\n",
       "      <td>3</td>\n",
       "      <td>4B3</td>\n",
       "      <td>2.0</td>\n",
       "      <td>NONE</td>\n",
       "      <td>NaN</td>\n",
       "    </tr>\n",
       "    <tr>\n",
       "      <th>2</th>\n",
       "      <td>NaN</td>\n",
       "      <td>11/05/2019</td>\n",
       "      <td>537</td>\n",
       "      <td>SEXUAL ASSAULT</td>\n",
       "      <td>COMMITTED</td>\n",
       "      <td>14:43.1</td>\n",
       "      <td>BATT/SEXUAL</td>\n",
       "      <td>NaN</td>\n",
       "      <td>NaN</td>\n",
       "      <td>NaN</td>\n",
       "      <td>...</td>\n",
       "      <td>NaN</td>\n",
       "      <td>NaN</td>\n",
       "      <td>70802.0</td>\n",
       "      <td>1</td>\n",
       "      <td>A</td>\n",
       "      <td>1</td>\n",
       "      <td>1A1</td>\n",
       "      <td>10.0</td>\n",
       "      <td>NONE</td>\n",
       "      <td>NaN</td>\n",
       "    </tr>\n",
       "    <tr>\n",
       "      <th>3</th>\n",
       "      <td>NaN</td>\n",
       "      <td>11/09/2019</td>\n",
       "      <td>2345</td>\n",
       "      <td>SEXUAL ASSAULT</td>\n",
       "      <td>ATTEMPTED</td>\n",
       "      <td>14:42.1/B</td>\n",
       "      <td>RAPE/ATT FORCIBLE</td>\n",
       "      <td>NaN</td>\n",
       "      <td>NaN</td>\n",
       "      <td>NaN</td>\n",
       "      <td>...</td>\n",
       "      <td>NaN</td>\n",
       "      <td>NaN</td>\n",
       "      <td>70816.0</td>\n",
       "      <td>3</td>\n",
       "      <td>E</td>\n",
       "      <td>5</td>\n",
       "      <td>3E5</td>\n",
       "      <td>8.0</td>\n",
       "      <td>NONE</td>\n",
       "      <td>NaN</td>\n",
       "    </tr>\n",
       "    <tr>\n",
       "      <th>4</th>\n",
       "      <td>NaN</td>\n",
       "      <td>03/14/2020</td>\n",
       "      <td>1657</td>\n",
       "      <td>JUVENILE</td>\n",
       "      <td>COMMITTED</td>\n",
       "      <td>14:81</td>\n",
       "      <td>IND BEHAVIOR W/JUV</td>\n",
       "      <td>NaN</td>\n",
       "      <td>NaN</td>\n",
       "      <td>NaN</td>\n",
       "      <td>...</td>\n",
       "      <td>NaN</td>\n",
       "      <td>NaN</td>\n",
       "      <td>70805.0</td>\n",
       "      <td>NaN</td>\n",
       "      <td>NaN</td>\n",
       "      <td>NaN</td>\n",
       "      <td>NaN</td>\n",
       "      <td>7.0</td>\n",
       "      <td>NONE</td>\n",
       "      <td>NaN</td>\n",
       "    </tr>\n",
       "  </tbody>\n",
       "</table>\n",
       "<p>5 rows × 22 columns</p>\n",
       "</div>"
      ],
      "text/plain": [
       "   FILE_NUMBER OFFENSE_DATE OFFENSE_TIME           CRIME  COMMITTED  \\\n",
       "0          NaN   04/11/2020         1645  SEXUAL ASSAULT  COMMITTED   \n",
       "1          NaN   10/28/2019         2248        JUVENILE  COMMITTED   \n",
       "2          NaN   11/05/2019          537  SEXUAL ASSAULT  COMMITTED   \n",
       "3          NaN   11/09/2019         2345  SEXUAL ASSAULT  ATTEMPTED   \n",
       "4          NaN   03/14/2020         1657        JUVENILE  COMMITTED   \n",
       "\n",
       "     OFFENSE OFFENSE_DESCRIPTION FULL_ADDRESS  ADDRESS_NUMBER  \\\n",
       "0    14:43.1         BATT/SEXUAL          NaN             NaN   \n",
       "1      14:81  IND BEHAVIOR W/JUV          NaN             NaN   \n",
       "2    14:43.1         BATT/SEXUAL          NaN             NaN   \n",
       "3  14:42.1/B   RAPE/ATT FORCIBLE          NaN             NaN   \n",
       "4      14:81  IND BEHAVIOR W/JUV          NaN             NaN   \n",
       "\n",
       "  STREET_DIRECTION  ... CITY STATE ZIP_CODE DISTRICT  ZONE SUBZONE  \\\n",
       "0              NaN  ...  NaN   NaN  70802.0        2     C       1   \n",
       "1              NaN  ...  NaN   NaN  70807.0        4     B       3   \n",
       "2              NaN  ...  NaN   NaN  70802.0        1     A       1   \n",
       "3              NaN  ...  NaN   NaN  70816.0        3     E       5   \n",
       "4              NaN  ...  NaN   NaN  70805.0      NaN   NaN     NaN   \n",
       "\n",
       "  COMPLETE_DISTRICT COUNCIL_DISTRICT CRIME_PREVENTION_DISTRICT  GEOLOCATION  \n",
       "0               2C1             10.0                      NONE          NaN  \n",
       "1               4B3              2.0                      NONE          NaN  \n",
       "2               1A1             10.0                      NONE          NaN  \n",
       "3               3E5              8.0                      NONE          NaN  \n",
       "4               NaN              7.0                      NONE          NaN  \n",
       "\n",
       "[5 rows x 22 columns]"
      ]
     },
     "execution_count": 7,
     "metadata": {},
     "output_type": "execute_result"
    }
   ],
   "source": [
    "df= pd.read_csv(raw_local_data, sep=',')\n",
    "df.head()"
   ]
  },
  {
   "cell_type": "code",
   "execution_count": 8,
   "metadata": {},
   "outputs": [
    {
     "data": {
      "application/vnd.jupyter.widget-view+json": {
       "model_id": "cd84f65bf0dc43cfa50bc20b9114431c",
       "version_major": 2,
       "version_minor": 0
      },
      "text/plain": [
       "Summarize dataset:   0%|          | 0/5 [00:00<?, ?it/s]"
      ]
     },
     "metadata": {},
     "output_type": "display_data"
    },
    {
     "name": "stderr",
     "output_type": "stream",
     "text": [
      "d:\\iNeuron\\Data Analysis\\crime_analysis\\env\\lib\\site-packages\\scipy\\stats\\stats.py:4812: RuntimeWarning: overflow encountered in longlong_scalars\n",
      "  (2 * xtie * ytie) / m + x0 * y0 / (9 * m * (size - 2)))\n"
     ]
    },
    {
     "data": {
      "application/vnd.jupyter.widget-view+json": {
       "model_id": "3e211cdf7f5d47a5b6bcd480ca5db33c",
       "version_major": 2,
       "version_minor": 0
      },
      "text/plain": [
       "Generate report structure:   0%|          | 0/1 [00:00<?, ?it/s]"
      ]
     },
     "metadata": {},
     "output_type": "display_data"
    },
    {
     "data": {
      "application/vnd.jupyter.widget-view+json": {
       "model_id": "5c6dc82da5ad4a2faa0a2a4a1e78b613",
       "version_major": 2,
       "version_minor": 0
      },
      "text/plain": [
       "Render widgets:   0%|          | 0/1 [00:00<?, ?it/s]"
      ]
     },
     "metadata": {},
     "output_type": "display_data"
    },
    {
     "data": {
      "application/vnd.jupyter.widget-view+json": {
       "model_id": "16890ad1e6d14a73a8bbcebf1898acdb",
       "version_major": 2,
       "version_minor": 0
      },
      "text/plain": [
       "VBox(children=(Tab(children=(Tab(children=(GridBox(children=(VBox(children=(GridspecLayout(children=(HTML(valu…"
      ]
     },
     "metadata": {},
     "output_type": "display_data"
    }
   ],
   "source": [
    "profile = ProfileReport(df)\n",
    "profile.to_widgets()"
   ]
  },
  {
   "cell_type": "code",
   "execution_count": 13,
   "metadata": {},
   "outputs": [
    {
     "data": {
      "text/plain": [
       "FILE_NUMBER                  float64\n",
       "OFFENSE_DATE                  object\n",
       "OFFENSE_TIME                  object\n",
       "CRIME                         object\n",
       "COMMITTED                     object\n",
       "OFFENSE                       object\n",
       "OFFENSE_DESCRIPTION           object\n",
       "FULL_ADDRESS                  object\n",
       "ADDRESS_NUMBER               float64\n",
       "STREET_DIRECTION              object\n",
       "STREET_NAME                   object\n",
       "STREET_TYPE                   object\n",
       "CITY                          object\n",
       "STATE                         object\n",
       "ZIP_CODE                     float64\n",
       "DISTRICT                      object\n",
       "ZONE                          object\n",
       "SUBZONE                       object\n",
       "COMPLETE_DISTRICT             object\n",
       "COUNCIL_DISTRICT             float64\n",
       "CRIME_PREVENTION_DISTRICT     object\n",
       "GEOLOCATION                   object\n",
       "dtype: object"
      ]
     },
     "execution_count": 13,
     "metadata": {},
     "output_type": "execute_result"
    }
   ],
   "source": [
    "df.dtypes"
   ]
  },
  {
   "cell_type": "code",
   "execution_count": null,
   "metadata": {},
   "outputs": [],
   "source": []
  }
 ],
 "metadata": {
  "interpreter": {
   "hash": "f0b235b375382abea76cf7e160e85202d9335d202e92e00cfcd92a357c55b140"
  },
  "kernelspec": {
   "display_name": "Python 3.7.13 (conda)",
   "language": "python",
   "name": "python3"
  },
  "language_info": {
   "codemirror_mode": {
    "name": "ipython",
    "version": 3
   },
   "file_extension": ".py",
   "mimetype": "text/x-python",
   "name": "python",
   "nbconvert_exporter": "python",
   "pygments_lexer": "ipython3",
   "version": "3.7.13"
  },
  "orig_nbformat": 4
 },
 "nbformat": 4,
 "nbformat_minor": 2
}
